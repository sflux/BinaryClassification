{
  "nbformat": 4,
  "nbformat_minor": 0,
  "metadata": {
    "colab": {
      "name": "FML Binary Classification Task",
      "provenance": [],
      "collapsed_sections": []
    },
    "kernelspec": {
      "name": "python3",
      "display_name": "Python 3"
    },
    "language_info": {
      "name": "python"
    }
  },
  "cells": [
    {
      "cell_type": "code",
      "metadata": {
        "id": "4ToPB5HUdbeb"
      },
      "source": [
        "import pandas as pd\n",
        "import numpy as np\n",
        "import seaborn as sn\n",
        "import matplotlib.pyplot as plt\n",
        "from google.colab import drive"
      ],
      "execution_count": null,
      "outputs": []
    },
    {
      "cell_type": "code",
      "metadata": {
        "id": "_1vars-KnNJk"
      },
      "source": [
        "from sklearn.preprocessing import StandardScaler\n",
        "from sklearn.linear_model import LogisticRegression\n",
        "from sklearn.metrics import accuracy_score\n",
        "from sklearn.impute import SimpleImputer\n",
        "from sklearn.linear_model import Perceptron\n",
        "from sklearn.feature_selection import chi2\n",
        "from sklearn.feature_selection import SelectKBest\n",
        "from sklearn.model_selection import cross_val_score\n",
        "from sklearn.model_selection import RepeatedStratifiedKFold\n",
        "from sklearn.model_selection import GridSearchCV\n",
        "from sklearn.decomposition import PCA\n",
        "from sklearn.model_selection import train_test_split\n",
        "from sklearn import metrics\n",
        "from numpy import mean\n",
        "from numpy import std"
      ],
      "execution_count": null,
      "outputs": []
    },
    {
      "cell_type": "code",
      "metadata": {
        "id": "zjq86FHSdrNT",
        "colab": {
          "base_uri": "https://localhost:8080/"
        },
        "outputId": "82268f69-d97e-433d-9b6e-ea358cdfc58d"
      },
      "source": [
        "drive.mount('/content/drive')"
      ],
      "execution_count": null,
      "outputs": [
        {
          "output_type": "stream",
          "text": [
            "Mounted at /content/drive\n"
          ],
          "name": "stdout"
        }
      ]
    },
    {
      "cell_type": "code",
      "metadata": {
        "id": "0u3R3ryEd-7T"
      },
      "source": [
        "trainingdata1data=pd.read_csv('/content/drive/My Drive/FML_Data/training1.csv')\n",
        "trainingdata2data=pd.read_csv('/content/drive/My Drive/FML_Data/training2.csv')\n",
        "testdata=pd.read_csv('/content/drive/My Drive/FML_Data/test.csv')"
      ],
      "execution_count": null,
      "outputs": []
    },
    {
      "cell_type": "markdown",
      "metadata": {
        "id": "js8soXUhwIPb"
      },
      "source": [
        "**DATA PREPROCESSING**"
      ]
    },
    {
      "cell_type": "markdown",
      "metadata": {
        "id": "sJaUH8Qw-8Aa"
      },
      "source": [
        "Fill in missing NaN values in our test data using an imputer."
      ]
    },
    {
      "cell_type": "code",
      "metadata": {
        "id": "THt9ARF6U_-k"
      },
      "source": [
        "TotalTestData = testdata\n",
        "imputer = SimpleImputer(fill_value=np.nan, strategy='mean')\n",
        "TotalTestData = imputer.fit_transform(TotalTestData)\n",
        "TotalTestData = pd.DataFrame(TotalTestData, columns = testdata.columns)"
      ],
      "execution_count": null,
      "outputs": []
    },
    {
      "cell_type": "markdown",
      "metadata": {
        "id": "ms7MJ8lPsHJ2"
      },
      "source": [
        "Separate training2data into respective confidence and label values so that imputing gives the most accurate values for each set. 4 sets get concatenated into one."
      ]
    },
    {
      "cell_type": "code",
      "metadata": {
        "id": "peKSG28zqmpN"
      },
      "source": [
        "DefSunnyTrainingData = trainingdata2data.loc[(trainingdata2data['confidence'] == 1) & (trainingdata2data['label'] == 1)]\n",
        "imputer = SimpleImputer(fill_value=np.nan, strategy='mean')\n",
        "DefSunnyTrainingData = imputer.fit_transform(DefSunnyTrainingData)\n",
        "DefSunnyTrainingData = pd.DataFrame(DefSunnyTrainingData, columns = trainingdata2data.columns)\n",
        "\n",
        "DefDarkTrainingData = trainingdata2data.loc[(trainingdata2data['confidence'] == 1) & (trainingdata2data['label'] == 0)]\n",
        "imputer = SimpleImputer(fill_value=np.nan, strategy='mean')\n",
        "DefDarkTrainingData = imputer.fit_transform(DefDarkTrainingData)\n",
        "DefDarkTrainingData = pd.DataFrame(DefDarkTrainingData, columns = trainingdata2data.columns)\n",
        "\n",
        "ProbSunnyTrainingData = trainingdata2data.loc[(trainingdata2data['confidence'] != 1) & (trainingdata2data['label'] == 1)]\n",
        "imputer = SimpleImputer(fill_value=np.nan, strategy='mean')\n",
        "ProbSunnyTrainingData = imputer.fit_transform(ProbSunnyTrainingData)\n",
        "ProbSunnyTrainingData = pd.DataFrame(ProbSunnyTrainingData, columns= trainingdata2data.columns)\n",
        "\n",
        "ProbDarkTrainingData = trainingdata2data.loc[(trainingdata2data['confidence'] != 1) & (trainingdata2data['label'] == 0)]\n",
        "imputer = SimpleImputer(fill_value=np.nan, strategy='mean')\n",
        "ProbDarkTrainingData = imputer.fit_transform(ProbDarkTrainingData)\n",
        "ProbDarkTrainingData = pd.DataFrame(ProbDarkTrainingData, columns = trainingdata2data.columns)\n",
        "\n",
        "Preprocessedtraining2data = pd.concat([DefSunnyTrainingData, DefDarkTrainingData, ProbSunnyTrainingData, ProbDarkTrainingData])\n",
        "\n",
        "TotalTrainingData = pd.concat([trainingdata1data, Preprocessedtraining2data])\n",
        "#print(trainingdata1data.shape)\n",
        "#print(Preprocessedtraining2data.shape)\n",
        "#print(TotalTrainingData.shape)"
      ],
      "execution_count": null,
      "outputs": []
    },
    {
      "cell_type": "markdown",
      "metadata": {
        "id": "mYzviry3_c68"
      },
      "source": [
        "**CHI-SQUARED CASES**"
      ]
    },
    {
      "cell_type": "markdown",
      "metadata": {
        "id": "BtUbrPMTY6bL"
      },
      "source": [
        "Chi2 cases appear before other classifiers as Chi2 cannot take negative parameters and therefore feature selection must occur before normalizing the data. This violates the itegrity of their choice selection. Chi2 therefore not used for test label predictions. Had idea to include ||x|| modulus for all data points to enable scaling to happen prior to feature selection. Could not work out how to implement in code."
      ]
    },
    {
      "cell_type": "markdown",
      "metadata": {
        "id": "3DgQbxBl88IT"
      },
      "source": [
        "Case: Total training data Perceptron"
      ]
    },
    {
      "cell_type": "code",
      "metadata": {
        "id": "0auZrxoi6WJ0",
        "colab": {
          "base_uri": "https://localhost:8080/"
        },
        "outputId": "a7848760-d33f-4a6d-b5ba-deb22f0053f0"
      },
      "source": [
        "trainingLabels=TotalTrainingData[\"label\"]\n",
        "\n",
        "chiScaler = StandardScaler()\n",
        "\n",
        "WrapTrainingData = TotalTrainingData.loc[:, TotalTrainingData.columns != 'label']\n",
        "ClassificationTrainingData = WrapTrainingData.loc[:, WrapTrainingData.columns != 'confidence']\n",
        "\n",
        "test = SelectKBest(score_func=chi2, k=1400)\n",
        "chi2TrainingData = test.fit_transform(ClassificationTrainingData,trainingLabels) #fit chi2 with data above\n",
        "\n",
        "chi2TrainingData = chiScaler.fit_transform(chi2TrainingData) #now normalize using scaler defined above\n",
        "\n",
        "chi2TrainingData = pd.DataFrame(chi2TrainingData)\n",
        "\n",
        "chi2Model = Perceptron(eta0=0.0001)\n",
        "chi2Model = Perceptron(max_iter=100)\n",
        "chi2Model.fit(chi2TrainingData, trainingLabels) #fit Perceptron to chi2 data above\n",
        "\n",
        "cv = RepeatedStratifiedKFold(n_splits = 241, n_repeats = 5, random_state=1)\n",
        "scores = cross_val_score(chi2Model, chi2TrainingData, trainingLabels, scoring='accuracy', cv=cv, n_jobs=-1)\n",
        "print('Mean Accuracy: %.5f (%.5f)' % (mean(scores), std(scores)))"
      ],
      "execution_count": null,
      "outputs": [
        {
          "output_type": "stream",
          "text": [
            "Mean Accuracy: 0.70595 (0.11490)\n"
          ],
          "name": "stdout"
        }
      ]
    },
    {
      "cell_type": "code",
      "metadata": {
        "id": "Jew18vOgoV7O"
      },
      "source": [
        ""
      ],
      "execution_count": null,
      "outputs": []
    },
    {
      "cell_type": "markdown",
      "metadata": {
        "id": "Qkr9QKg39MaE"
      },
      "source": [
        "Case: 100% confidence data Perceptron"
      ]
    },
    {
      "cell_type": "code",
      "metadata": {
        "id": "mdPmTVMI9PMI",
        "colab": {
          "base_uri": "https://localhost:8080/"
        },
        "outputId": "740a9dd8-4802-4070-9707-45b17bb6080a"
      },
      "source": [
        "chiScaler1 = StandardScaler()\n",
        "\n",
        "chi2ConfidentTrainingData = TotalTrainingData.loc[TotalTrainingData['confidence'] == 1] #only 100% confidence\n",
        "\n",
        "WrapTrainingData = chi2ConfidentTrainingData.loc[:, TotalTrainingData.columns != 'label']\n",
        "ChiClassificationTrainingData = WrapTrainingData.loc[:, WrapTrainingData.columns != 'confidence']\n",
        "\n",
        "wrapConfidentLabels = TotalTrainingData.loc[(TotalTrainingData['confidence'] == 1)] #labels for confidence\n",
        "dfconfidentLabels = wrapConfidentLabels.iloc[:,4608:4610]\n",
        "del dfconfidentLabels['confidence']\n",
        "confidentLabels = dfconfidentLabels[\"label\"]\n",
        "\n",
        "chosenTest = SelectKBest(score_func=chi2, k=600)\n",
        "chi2TrainingData1 = chosenTest.fit_transform(ChiClassificationTrainingData,confidentLabels) #fit and transform chi2 using data above\n",
        "\n",
        "chi2TrainingData1 = chiScaler1.fit_transform(chi2TrainingData1)\n",
        "\n",
        "chi2TrainingData1 = pd.DataFrame(chi2TrainingData1)\n",
        "\n",
        "chi2ConfidentModel = Perceptron(eta0=0.05)\n",
        "chi2ConfidentModel = Perceptron(max_iter=100)\n",
        "chi2ConfidentModel.fit(chi2TrainingData1, confidentLabels) #fit chi2 data to our perceptron\n",
        "\n",
        "cv = RepeatedStratifiedKFold(n_splits = 64, n_repeats = 5, random_state=1)\n",
        "scores = cross_val_score(chi2ConfidentModel, chi2TrainingData1, confidentLabels, scoring='accuracy', cv=cv, n_jobs=-1)\n",
        "print('Mean Accuracy: %.5f (%.5f)' % (mean(scores), std(scores)))\n",
        "\n",
        "chi2TestData = chosenTest.transform(TotalTestData)\n",
        "\n",
        "chi2TestData = chiScaler1.fit_transform(chi2TestData)\n",
        "\n",
        "chi2TestData = pd.DataFrame(chi2TestData)\n",
        "\n",
        "chi2Predictions = chi2ConfidentModel.predict(chi2TestData)\n",
        "\n",
        "chi2Predictions = pd.DataFrame(chi2Predictions)"
      ],
      "execution_count": null,
      "outputs": [
        {
          "output_type": "stream",
          "text": [
            "Mean Accuracy: 0.79617 (0.10058)\n"
          ],
          "name": "stdout"
        }
      ]
    },
    {
      "cell_type": "markdown",
      "metadata": {
        "id": "XrEKZA90BPNW"
      },
      "source": [
        "Case: Total training data Logistic Regression"
      ]
    },
    {
      "cell_type": "code",
      "metadata": {
        "id": "CRXQQqXHBTtX",
        "colab": {
          "base_uri": "https://localhost:8080/"
        },
        "outputId": "fd049f98-be60-42cc-d4da-23a317d174da"
      },
      "source": [
        "trainingLabels=TotalTrainingData[\"label\"]\n",
        "\n",
        "chiScaler2 = StandardScaler()\n",
        "\n",
        "WrapTrainingData = TotalTrainingData.loc[:, TotalTrainingData.columns != 'label']\n",
        "ClassificationTrainingData = WrapTrainingData.loc[:, WrapTrainingData.columns != 'confidence']\n",
        "\n",
        "test = SelectKBest(score_func=chi2, k=600)\n",
        "chi2TrainingData2 = test.fit_transform(ClassificationTrainingData,trainingLabels)\n",
        "\n",
        "chi2TrainingData2 = chiScaler2.fit_transform(chi2TrainingData2) #now normalize using scaler defined above\n",
        "\n",
        "chi2TrainingData2 = pd.DataFrame(chi2TrainingData2)\n",
        "\n",
        "X = chi2TrainingData2\n",
        "y = trainingLabels\n",
        "\n",
        "X_train,X_test,y_train,y_test = train_test_split(X,y,test_size=0.2,random_state=0) #80/20 train test split\n",
        "\n",
        "logistic_regression= LogisticRegression(max_iter=100000)\n",
        "logistic_regression.fit(X_train,y_train)\n",
        "y_pred=logistic_regression.predict(X_test)\n",
        "\n",
        "confusion_matrix = pd.crosstab(y_test, y_pred, rownames=['Actual'], colnames=['Predicted'], normalize=False)\n",
        "sn.heatmap(confusion_matrix, annot=True)\n",
        "\n",
        "print('Accuracy: ', metrics.accuracy_score(y_test, y_pred))\n",
        "plt.show()"
      ],
      "execution_count": null,
      "outputs": [
        {
          "output_type": "stream",
          "text": [
            "Accuracy:  0.7219917012448133\n"
          ],
          "name": "stdout"
        },
        {
          "output_type": "display_data",
          "data": {
            "image/png": "[encoded data removed]",
            "text/plain": [
              "<Figure size 432x288 with 2 Axes>"
            ]
          },
          "metadata": {
            "tags": [],
            "needs_background": "light"
          }
        }
      ]
    },
    {
      "cell_type": "markdown",
      "metadata": {
        "id": "VkLAe7NV_qNc"
      },
      "source": [
        "Case: 100% confidence data Logistic Regression"
      ]
    },
    {
      "cell_type": "code",
      "metadata": {
        "id": "0WDEg-1j_sxp",
        "colab": {
          "base_uri": "https://localhost:8080/"
        },
        "outputId": "3bf1203b-26cc-4229-c401-46eae177f467"
      },
      "source": [
        "chiScaler3 = StandardScaler()\n",
        "\n",
        "CertainTrainingData = TotalTrainingData.loc[TotalTrainingData['confidence'] == 1]\n",
        "\n",
        "WrapTrainingData1 = CertainTrainingData.loc[:, CertainTrainingData.columns != 'label']\n",
        "ConfidentTrainingData = WrapTrainingData1.loc[:, WrapTrainingData1.columns != 'confidence']\n",
        "\n",
        "wrapConfidentLabels = TotalTrainingData.loc[(TotalTrainingData['confidence'] == 1)]\n",
        "dfconfidentLabels = wrapConfidentLabels.iloc[:,4608:4610]\n",
        "del dfconfidentLabels['confidence']\n",
        "confidentLabels = dfconfidentLabels[\"label\"]\n",
        "\n",
        "test = SelectKBest(score_func=chi2, k=600)\n",
        "chi2TrainingData3 = test.fit_transform(ConfidentTrainingData,confidentLabels)\n",
        "\n",
        "chi2TrainingData3 = chiScaler3.fit_transform(chi2TrainingData3) #normalize using scaler defined above\n",
        "\n",
        "chi2TrainingData3= pd.DataFrame(chi2TrainingData3)\n",
        "\n",
        "X = chi2TrainingData3\n",
        "y = confidentLabels\n",
        "\n",
        "X_train,X_test,y_train,y_test = train_test_split(X,y,test_size=0.2,random_state=0) #randomstate=0 increases accuracy to normal mode which is random, suggests overfitting\n",
        "\n",
        "logistic_regression= LogisticRegression(max_iter=10000)\n",
        "logistic_regression.fit(X_train,y_train)\n",
        "y_pred=logistic_regression.predict(X_test)\n",
        "\n",
        "confusion_matrix = pd.crosstab(y_test, y_pred, rownames=['Actual'], colnames=['Predicted'])\n",
        "sn.heatmap(confusion_matrix, annot=True)\n",
        "\n",
        "print('Accuracy: ', metrics.accuracy_score(y_test, y_pred))\n",
        "plt.show()"
      ],
      "execution_count": null,
      "outputs": [
        {
          "output_type": "stream",
          "text": [
            "Accuracy:  0.7927461139896373\n"
          ],
          "name": "stdout"
        },
        {
          "output_type": "display_data",
          "data": {
            "image/png": "[encoded data removed]",
            "text/plain": [
              "<Figure size 432x288 with 2 Axes>"
            ]
          },
          "metadata": {
            "tags": [],
            "needs_background": "light"
          }
        }
      ]
    },
    {
      "cell_type": "markdown",
      "metadata": {
        "id": "4rmwTIkhpq2C"
      },
      "source": [
        "Scale Data Before **RUNNING CLASSIFIERS**. Test data transformed using same scaler defined for training data."
      ]
    },
    {
      "cell_type": "code",
      "metadata": {
        "id": "Pm-A1y92_GWI"
      },
      "source": [
        "ss = StandardScaler()\n",
        "TotalTrainingData.iloc[:,0:4608] = ss.fit_transform(TotalTrainingData.iloc[:,0:4608])\n",
        "TotalTestData = ss.transform(TotalTestData)\n"
      ],
      "execution_count": null,
      "outputs": []
    },
    {
      "cell_type": "markdown",
      "metadata": {
        "id": "3tWIHNh6qC4j"
      },
      "source": [
        "Scaler creates uniform variance for all features"
      ]
    },
    {
      "cell_type": "code",
      "metadata": {
        "id": "Vl6VshVFGb7O",
        "colab": {
          "base_uri": "https://localhost:8080/"
        },
        "outputId": "c1bc2b4e-2a2c-4492-ee6d-2dc452fbd5b6"
      },
      "source": [
        "print(TotalTrainingData.var(ddof=0))\n",
        "print(TotalTestData.var(ddof=0))"
      ],
      "execution_count": null,
      "outputs": [
        {
          "output_type": "stream",
          "text": [
            "CNNs          1.000000\n",
            "CNNs.1        1.000000\n",
            "CNNs.2        1.000000\n",
            "CNNs.3        1.000000\n",
            "CNNs.4        1.000000\n",
            "                ...   \n",
            "GIST.509      1.000000\n",
            "GIST.510      1.000000\n",
            "GIST.511      1.000000\n",
            "label         0.248380\n",
            "confidence    0.022561\n",
            "Length: 4610, dtype: float64\n",
            "0.9532073521964011\n"
          ],
          "name": "stdout"
        }
      ]
    },
    {
      "cell_type": "markdown",
      "metadata": {
        "id": "HHU8XiAcyp_s"
      },
      "source": [
        "**RUNNING CLASSIFIERS**"
      ]
    },
    {
      "cell_type": "markdown",
      "metadata": {
        "id": "OpUawk9FzHkd"
      },
      "source": [
        "***Perceptron***"
      ]
    },
    {
      "cell_type": "markdown",
      "metadata": {
        "id": "ht9rrcPwShQF"
      },
      "source": [
        "Case: Total training data"
      ]
    },
    {
      "cell_type": "code",
      "metadata": {
        "id": "XBqBK9x7PJS6",
        "colab": {
          "base_uri": "https://localhost:8080/"
        },
        "outputId": "4143d061-b470-449b-8bc5-83e11623a41c"
      },
      "source": [
        "trainingLabels=TotalTrainingData[\"label\"]\n",
        "\n",
        "WrapTrainingData = TotalTrainingData.loc[:, TotalTrainingData.columns != 'label']\n",
        "ClassificationTrainingData = WrapTrainingData.loc[:, WrapTrainingData.columns != 'confidence']\n",
        "\n",
        "model = Perceptron(eta0=0.01)\n",
        "model = Perceptron(max_iter=100)\n",
        "\n",
        "model.fit(ClassificationTrainingData, trainingLabels) #fit using data and labels\n",
        "\n",
        "cv = RepeatedStratifiedKFold(n_splits = 241, n_repeats = 5, random_state=1)\n",
        "scores = cross_val_score(model, ClassificationTrainingData, trainingLabels, scoring='accuracy', cv=cv, n_jobs=-1)\n",
        "print('Mean Accuracy: %.5f (%.5f)' % (mean(scores), std(scores)))\n",
        "\n",
        "testPredictionz = model.predict(TotalTestData)\n",
        "testPredictionz = pd.DataFrame(testPredictionz)"
      ],
      "execution_count": null,
      "outputs": [
        {
          "output_type": "stream",
          "text": [
            "Mean Accuracy: 0.75176 (0.11044)\n"
          ],
          "name": "stdout"
        }
      ]
    },
    {
      "cell_type": "markdown",
      "metadata": {
        "id": "-itkWVNs52sL"
      },
      "source": [
        "Case: Total training data post PCA"
      ]
    },
    {
      "cell_type": "code",
      "metadata": {
        "id": "jd6Cq-9l57cj",
        "colab": {
          "base_uri": "https://localhost:8080/"
        },
        "outputId": "1734c44b-ccf6-40ba-9f43-a133d4428f1b"
      },
      "source": [
        "pca = PCA(0.8)\n",
        "pcaTrainingData = pca.fit_transform(TotalTrainingData)\n",
        "pcaDataFrame = pd.DataFrame(pcaTrainingData)\n",
        "\n",
        "trainingLabels2=TotalTrainingData[\"label\"]\n",
        "\n",
        "pcaModel = Perceptron(eta0=0.001)\n",
        "pcaModel = Perceptron(max_iter=100)\n",
        "pcaModel.fit(pcaDataFrame, trainingLabels)\n",
        "cv = RepeatedStratifiedKFold(n_splits = 241, n_repeats = 5, random_state=1)\n",
        "scores = cross_val_score(pcaModel, pcaDataFrame, trainingLabels, scoring='accuracy', cv=cv, n_jobs=-1)\n",
        "print('Mean Accuracy: %.5f (%.5f)' % (mean(scores), std(scores)))"
      ],
      "execution_count": null,
      "outputs": [
        {
          "output_type": "stream",
          "text": [
            "Mean Accuracy: 0.74097 (0.11218)\n"
          ],
          "name": "stdout"
        }
      ]
    },
    {
      "cell_type": "markdown",
      "metadata": {
        "id": "UROdMs93R_ig"
      },
      "source": [
        "Case: 100% confidence data"
      ]
    },
    {
      "cell_type": "code",
      "metadata": {
        "id": "shBt2i5P7aEh",
        "colab": {
          "base_uri": "https://localhost:8080/"
        },
        "outputId": "e5ad5064-4a01-4a25-b1e8-1ebf209a3a1f"
      },
      "source": [
        "CertainTrainingData = TotalTrainingData.loc[TotalTrainingData['confidence'] == 1]\n",
        "\n",
        "WrapTrainingData1 = CertainTrainingData.loc[:, CertainTrainingData.columns != 'label']\n",
        "ConfidentTrainingData = WrapTrainingData1.loc[:, WrapTrainingData1.columns != 'confidence']\n",
        "\n",
        "wrapConfidentLabels = TotalTrainingData.loc[(TotalTrainingData['confidence'] == 1)]\n",
        "dfconfidentLabels = wrapConfidentLabels.iloc[:,4608:4610]\n",
        "del dfconfidentLabels['confidence']\n",
        "confidentLabels = dfconfidentLabels[\"label\"]\n",
        "\n",
        "confidentModel = Perceptron(eta0=0.0001)\n",
        "confidentModel = Perceptron(max_iter=100)\n",
        "confidentModel.fit(ConfidentTrainingData, confidentLabels)\n",
        "cv = RepeatedStratifiedKFold(n_splits = 64, n_repeats = 5, random_state=1)\n",
        "scores = cross_val_score(confidentModel, ConfidentTrainingData, confidentLabels, scoring='accuracy', cv=cv, n_jobs=-1)\n",
        "print('Mean Accuracy: %.5f (%.5f)' % (mean(scores), std(scores)))\n",
        "\n",
        "testPredictions = confidentModel.predict(TotalTestData)\n",
        "testPredictions = pd.DataFrame(testPredictions)\n",
        "testPredictions"
      ],
      "execution_count": null,
      "outputs": [
        {
          "output_type": "stream",
          "text": [
            "Mean Accuracy: 0.83014 (0.10189)\n"
          ],
          "name": "stdout"
        },
        {
          "output_type": "execute_result",
          "data": {
            "text/html": [
              "<div>\n",
              "<style scoped>\n",
              "    .dataframe tbody tr th:only-of-type {\n",
              "        vertical-align: middle;\n",
              "    }\n",
              "\n",
              "    .dataframe tbody tr th {\n",
              "        vertical-align: top;\n",
              "    }\n",
              "\n",
              "    .dataframe thead th {\n",
              "        text-align: right;\n",
              "    }\n",
              "</style>\n",
              "<table border=\"1\" class=\"dataframe\">\n",
              "  <thead>\n",
              "    <tr style=\"text-align: right;\">\n",
              "      <th></th>\n",
              "      <th>0</th>\n",
              "    </tr>\n",
              "  </thead>\n",
              "  <tbody>\n",
              "    <tr>\n",
              "      <th>0</th>\n",
              "      <td>1.0</td>\n",
              "    </tr>\n",
              "    <tr>\n",
              "      <th>1</th>\n",
              "      <td>1.0</td>\n",
              "    </tr>\n",
              "    <tr>\n",
              "      <th>2</th>\n",
              "      <td>1.0</td>\n",
              "    </tr>\n",
              "    <tr>\n",
              "      <th>3</th>\n",
              "      <td>0.0</td>\n",
              "    </tr>\n",
              "    <tr>\n",
              "      <th>4</th>\n",
              "      <td>0.0</td>\n",
              "    </tr>\n",
              "    <tr>\n",
              "      <th>...</th>\n",
              "      <td>...</td>\n",
              "    </tr>\n",
              "    <tr>\n",
              "      <th>2162</th>\n",
              "      <td>0.0</td>\n",
              "    </tr>\n",
              "    <tr>\n",
              "      <th>2163</th>\n",
              "      <td>0.0</td>\n",
              "    </tr>\n",
              "    <tr>\n",
              "      <th>2164</th>\n",
              "      <td>0.0</td>\n",
              "    </tr>\n",
              "    <tr>\n",
              "      <th>2165</th>\n",
              "      <td>1.0</td>\n",
              "    </tr>\n",
              "    <tr>\n",
              "      <th>2166</th>\n",
              "      <td>0.0</td>\n",
              "    </tr>\n",
              "  </tbody>\n",
              "</table>\n",
              "<p>2167 rows × 1 columns</p>\n",
              "</div>"
            ],
            "text/plain": [
              "        0\n",
              "0     1.0\n",
              "1     1.0\n",
              "2     1.0\n",
              "3     0.0\n",
              "4     0.0\n",
              "...   ...\n",
              "2162  0.0\n",
              "2163  0.0\n",
              "2164  0.0\n",
              "2165  1.0\n",
              "2166  0.0\n",
              "\n",
              "[2167 rows x 1 columns]"
            ]
          },
          "metadata": {
            "tags": []
          },
          "execution_count": 21
        }
      ]
    },
    {
      "cell_type": "markdown",
      "metadata": {
        "id": "MeJ6CyT2BGvI"
      },
      "source": [
        "Case: 100% confidence data post PCA"
      ]
    },
    {
      "cell_type": "code",
      "metadata": {
        "id": "Nh1hDczPBJfu",
        "colab": {
          "base_uri": "https://localhost:8080/"
        },
        "outputId": "66d6e53f-3328-47bb-b935-56a486fd428b"
      },
      "source": [
        "pca1 = PCA(0.8)\n",
        "\n",
        "pcaTrainingData1 = TotalTrainingData.loc[TotalTrainingData['confidence'] == 1]\n",
        "\n",
        "WrapTrainingData1 = pcaTrainingData1.loc[:, pcaTrainingData1.columns != 'label']\n",
        "ConfidentTrainingData = WrapTrainingData1.loc[:, WrapTrainingData1.columns != 'confidence']\n",
        "\n",
        "pcaConfidentData = pca1.fit_transform(ConfidentTrainingData) #transform data using pca\n",
        "pcaConfidentDataFrame = pd.DataFrame(pcaConfidentData)\n",
        "\n",
        "wrapConfidentLabels = TotalTrainingData.loc[(TotalTrainingData['confidence'] == 1)]\n",
        "dfconfidentLabels = wrapConfidentLabels.iloc[:,4608:4610]\n",
        "del dfconfidentLabels['confidence']\n",
        "confidentLabels = dfconfidentLabels[\"label\"]\n",
        "\n",
        "pcaConfidentModel = Perceptron(eta0=0.001)\n",
        "pcaConfidentModel = Perceptron(max_iter=100)\n",
        "pcaConfidentModel.fit(pcaConfidentDataFrame, confidentLabels) #fitt model with pca data transformed above\n",
        "cv = RepeatedStratifiedKFold(n_splits = 64, n_repeats = 5, random_state=1)\n",
        "scores = cross_val_score(pcaConfidentModel, pcaConfidentDataFrame, confidentLabels, scoring='accuracy', cv=cv, n_jobs=-1)\n",
        "print('Mean Accuracy: %.5f (%.5f)' % (mean(scores), std(scores)))\n",
        "\n",
        "pcaTotalTestData = pca1.transform(TotalTestData)\n",
        "pcaTotalTestData = pd.DataFrame(pcaTotalTestData)\n",
        "\n",
        "chosenTestPredictions = pcaConfidentModel.predict(pcaTotalTestData)\n",
        "chosenTestPredictions = pd.DataFrame(chosenTestPredictions).to_csv(\"/content/drive/My Drive/FML_Data/predictions.csv\",header=['prediction'],index=None)"
      ],
      "execution_count": null,
      "outputs": [
        {
          "output_type": "stream",
          "text": [
            "Mean Accuracy: 0.80283 (0.10623)\n"
          ],
          "name": "stdout"
        }
      ]
    },
    {
      "cell_type": "markdown",
      "metadata": {
        "id": "AJhLI4NDSDrN"
      },
      "source": [
        "Case: 66% confidence data"
      ]
    },
    {
      "cell_type": "code",
      "metadata": {
        "id": "pF_bFzQ37bi2",
        "colab": {
          "base_uri": "https://localhost:8080/"
        },
        "outputId": "4309dca8-0f8f-4ac9-8146-796047dd002f"
      },
      "source": [
        "UncertainTrainingData = TotalTrainingData.loc[TotalTrainingData['confidence'] != 1]\n",
        "\n",
        "WrapTrainingData2 = UncertainTrainingData.loc[:, UncertainTrainingData.columns != 'label']\n",
        "UnConfidentTrainingData = WrapTrainingData2.loc[:, WrapTrainingData2.columns != 'confidence']\n",
        "\n",
        "wrapUnconfidentLabels = TotalTrainingData.loc[(TotalTrainingData['confidence'] != 1)]\n",
        "dfunconfidentLabels = wrapUnconfidentLabels.iloc[:,4608:4610]\n",
        "del dfunconfidentLabels['confidence']\n",
        "unconfidentLabels = dfunconfidentLabels[\"label\"]\n",
        "\n",
        "unconfidentModel = Perceptron(eta0=0.01)\n",
        "unconfidentModel = Perceptron(max_iter=100)\n",
        "unconfidentModel.fit(UnConfidentTrainingData, unconfidentLabels)\n",
        "cv = RepeatedStratifiedKFold(n_splits = 177, n_repeats = 5, random_state=1)\n",
        "scores = cross_val_score(unconfidentModel, UnConfidentTrainingData, unconfidentLabels, scoring='accuracy', cv=cv, n_jobs=-1)\n",
        "print('Mean Accuracy: %.5f (%.5f)' % (mean(scores), std(scores)))"
      ],
      "execution_count": null,
      "outputs": [
        {
          "output_type": "stream",
          "text": [
            "Mean Accuracy: 0.75758 (0.11635)\n"
          ],
          "name": "stdout"
        }
      ]
    },
    {
      "cell_type": "markdown",
      "metadata": {
        "id": "SZ3G95flBvhq"
      },
      "source": [
        "Case: 66% confidence data post PCA"
      ]
    },
    {
      "cell_type": "code",
      "metadata": {
        "id": "LzypJ8FOBxh6",
        "colab": {
          "base_uri": "https://localhost:8080/"
        },
        "outputId": "49d1ede0-f5d7-419a-b920-5abf584c6d82"
      },
      "source": [
        "pca2 = PCA(0.8)\n",
        "\n",
        "pcaTrainingData2 = TotalTrainingData.loc[TotalTrainingData['confidence'] != 1]\n",
        "\n",
        "pcaUnConfidentData = pca2.fit_transform(pcaTrainingData2)\n",
        "pcaUnConfidentDataFrame = pd.DataFrame(pcaUnConfidentData)\n",
        "\n",
        "wrapUnconfidentLabels = TotalTrainingData.loc[(TotalTrainingData['confidence'] != 1)]\n",
        "dfunconfidentLabels = wrapUnconfidentLabels.iloc[:,4608:4610]\n",
        "del dfunconfidentLabels['confidence']\n",
        "unconfidentLabels = dfunconfidentLabels[\"label\"]\n",
        "\n",
        "pcaUnconfidentModel = Perceptron(eta0=0.0001)\n",
        "pcaUnconfidentModel = Perceptron(max_iter=100)\n",
        "pcaUnconfidentModel.fit(pcaUnConfidentDataFrame, unconfidentLabels)\n",
        "cv = RepeatedStratifiedKFold(n_splits = 177, n_repeats = 5, random_state=1)\n",
        "scores = cross_val_score(pcaUnconfidentModel, pcaUnConfidentDataFrame, unconfidentLabels, scoring='accuracy', cv=cv, n_jobs=-1)\n",
        "print('Mean Accuracy: %.5f (%.5f)' % (mean(scores), std(scores)))"
      ],
      "execution_count": null,
      "outputs": [
        {
          "output_type": "stream",
          "text": [
            "Mean Accuracy: 0.73059 (0.11495)\n"
          ],
          "name": "stdout"
        }
      ]
    },
    {
      "cell_type": "markdown",
      "metadata": {
        "id": "NcQ2SvFBIabp"
      },
      "source": [
        "***Logistic Regression***"
      ]
    },
    {
      "cell_type": "markdown",
      "metadata": {
        "id": "h_DjEdsTIbOw"
      },
      "source": [
        "Case: Total Training Data\n"
      ]
    },
    {
      "cell_type": "code",
      "metadata": {
        "id": "WMqdM7UqIXL8",
        "colab": {
          "base_uri": "https://localhost:8080/"
        },
        "outputId": "d7b78a67-80d8-4d7f-c647-1f5ddaaba7eb"
      },
      "source": [
        "trainingLabels=TotalTrainingData[\"label\"]\n",
        "\n",
        "X = TotalTrainingData.iloc[:,0:4608]\n",
        "y = trainingLabels\n",
        "\n",
        "X_train,X_test,y_train,y_test = train_test_split(X,y,test_size=0.2,random_state=0) \n",
        "\n",
        "logistic_regression= LogisticRegression(max_iter=10000)\n",
        "logistic_regression.fit(X_train,y_train)\n",
        "y_pred=logistic_regression.predict(X_test)\n",
        "\n",
        "confusion_matrix = pd.crosstab(y_test, y_pred, rownames=['Actual'], colnames=['Predicted'])\n",
        "sn.heatmap(confusion_matrix, annot=True)\n",
        "\n",
        "print('Accuracy: ', metrics.accuracy_score(y_test, y_pred))\n",
        "plt.show()\n",
        "\n",
        "LRtestPredictionz = logistic_regression.predict(TotalTestData)\n",
        "LRtestPredictionz = pd.DataFrame(LRtestPredictionz)"
      ],
      "execution_count": null,
      "outputs": [
        {
          "output_type": "stream",
          "text": [
            "Accuracy:  0.7800829875518672\n"
          ],
          "name": "stdout"
        },
        {
          "output_type": "display_data",
          "data": {
            "image/png": "[encoded data removed]",
            "text/plain": [
              "<Figure size 432x288 with 2 Axes>"
            ]
          },
          "metadata": {
            "tags": [],
            "needs_background": "light"
          }
        }
      ]
    },
    {
      "cell_type": "markdown",
      "metadata": {
        "id": "EY5s8vwYIgvf"
      },
      "source": [
        "Case: 100% confidence data"
      ]
    },
    {
      "cell_type": "code",
      "metadata": {
        "id": "2wHKzDZ0IgGW",
        "colab": {
          "base_uri": "https://localhost:8080/"
        },
        "outputId": "183a1a63-9c91-4f4b-a8d6-93fe4500fbe5"
      },
      "source": [
        "CertainTrainingData = TotalTrainingData.loc[TotalTrainingData['confidence'] == 1]\n",
        "\n",
        "WrapTrainingData1 = CertainTrainingData.loc[:, CertainTrainingData.columns != 'label']\n",
        "ConfidentTrainingData = WrapTrainingData1.loc[:, WrapTrainingData1.columns != 'confidence']\n",
        "\n",
        "wrapConfidentLabels = TotalTrainingData.loc[(TotalTrainingData['confidence'] == 1)]\n",
        "dfconfidentLabels = wrapConfidentLabels.iloc[:,4608:4610]\n",
        "del dfconfidentLabels['confidence']\n",
        "confidentLabels = dfconfidentLabels[\"label\"]\n",
        "\n",
        "X = ConfidentTrainingData\n",
        "y = confidentLabels\n",
        "\n",
        "X_train,X_test,y_train,y_test = train_test_split(X,y,test_size=0.2,random_state=0) #randomstate=0 increases accuracy to normal mode which is random, suggests overfitting\n",
        "\n",
        "logistic_regression= LogisticRegression(max_iter=10000)\n",
        "logistic_regression.fit(X_train,y_train)\n",
        "y_pred=logistic_regression.predict(X_test)\n",
        "\n",
        "confusion_matrix = pd.crosstab(y_test, y_pred, rownames=['Actual'], colnames=['Predicted'])\n",
        "sn.heatmap(confusion_matrix, annot=True)\n",
        "\n",
        "print('Accuracy: ', metrics.accuracy_score(y_test, y_pred))\n",
        "plt.show()\n",
        "\n",
        "LRtestPredictions = logistic_regression.predict(TotalTestData)\n",
        "LRtestPredictions = pd.DataFrame(LRtestPredictions)"
      ],
      "execution_count": null,
      "outputs": [
        {
          "output_type": "stream",
          "text": [
            "Accuracy:  0.8497409326424871\n"
          ],
          "name": "stdout"
        },
        {
          "output_type": "display_data",
          "data": {
            "image/png": "[encoded data removed]",
            "text/plain": [
              "<Figure size 432x288 with 2 Axes>"
            ]
          },
          "metadata": {
            "tags": [],
            "needs_background": "light"
          }
        }
      ]
    },
    {
      "cell_type": "markdown",
      "metadata": {
        "id": "WJwzg5YpHeLi"
      },
      "source": [
        "**TUNING PERCEPTRON HYPERPARAMETERS**"
      ]
    },
    {
      "cell_type": "markdown",
      "metadata": {
        "id": "AbJmyc5EXhGH"
      },
      "source": [
        "Code had to be placed after Classifiers as calling GridSearchCV returns numpy array which causes RepeatedStratifiedKFold to return an error when trying to run."
      ]
    },
    {
      "cell_type": "markdown",
      "metadata": {
        "id": "zmWsOuJ5Hjac"
      },
      "source": [
        "Case: Optimal Learning Rate Total Data"
      ]
    },
    {
      "cell_type": "code",
      "metadata": {
        "id": "lBeb_JTVHhB1",
        "colab": {
          "base_uri": "https://localhost:8080/"
        },
        "outputId": "c7c11f1b-8662-4bb8-de27-105a70b9a156"
      },
      "source": [
        "trainingLabels=TotalTrainingData[\"label\"]\n",
        "\n",
        "WrapTrainingData = TotalTrainingData.loc[:, TotalTrainingData.columns != 'label']\n",
        "LRTrainingData = WrapTrainingData.loc[:, WrapTrainingData.columns != 'confidence']\n",
        "\n",
        "LRModel = Perceptron(eta0=0.01)\n",
        "LRModel = Perceptron(max_iter=100)\n",
        "LRModel.fit(LRTrainingData, trainingLabels)\n",
        "grid = dict()\n",
        "grid['eta0'] = [0.0001, 0.001, 0.01, 0.1, 1.0] #range of values to be tested\n",
        "cv = RepeatedStratifiedKFold(n_splits = 241, n_repeats = 5, random_state=1)\n",
        "search = GridSearchCV(LRModel, grid, scoring='accuracy', cv=cv, n_jobs=-1)\n",
        "results = search.fit(LRTrainingData, trainingLabels) #fit using data defined above\n",
        "print('Mean Accuracy: %.5f' % results.best_score_)\n",
        "print('Config: %s' % results.best_params_)\n",
        "means = results.cv_results_['mean_test_score']\n",
        "params = results.cv_results_['params']\n",
        "for mean, param in zip(means, params):\n",
        "  print(\">%.5f with: %r\" % (mean,param))"
      ],
      "execution_count": null,
      "outputs": [
        {
          "output_type": "stream",
          "text": [
            "Mean Accuracy: 0.75176\n",
            "Config: {'eta0': 1.0}\n",
            ">0.74949 with: {'eta0': 0.0001}\n",
            ">0.75093 with: {'eta0': 0.001}\n",
            ">0.75087 with: {'eta0': 0.01}\n",
            ">0.75154 with: {'eta0': 0.1}\n",
            ">0.75176 with: {'eta0': 1.0}\n"
          ],
          "name": "stdout"
        }
      ]
    },
    {
      "cell_type": "markdown",
      "metadata": {
        "id": "qcciBAbaHmXY"
      },
      "source": [
        "Case: Optimal No. Epochs Total Data"
      ]
    },
    {
      "cell_type": "code",
      "metadata": {
        "id": "1ZWybVYVHoy4",
        "colab": {
          "base_uri": "https://localhost:8080/"
        },
        "outputId": "afb19788-a9b8-46e2-e827-58565bf547e1"
      },
      "source": [
        "trainingLabels=TotalTrainingData[\"label\"]\n",
        "\n",
        "WrapTrainingData = TotalTrainingData.loc[:, TotalTrainingData.columns != 'label']\n",
        "EpochTrainingData = WrapTrainingData.loc[:, WrapTrainingData.columns != 'confidence']\n",
        "\n",
        "epochModel = Perceptron(eta0=0.01)\n",
        "epochModel = Perceptron(max_iter=100)\n",
        "epochModel.fit(EpochTrainingData, trainingLabels)\n",
        "grid = dict()\n",
        "grid['max_iter'] = [1, 10, 100, 1000, 10000] #range of values to be tested\n",
        "cv = RepeatedStratifiedKFold(n_splits = 241, n_repeats = 5, random_state=1)\n",
        "search = GridSearchCV(epochModel, grid, scoring='accuracy', cv=cv, n_jobs=-1)\n",
        "results = search.fit(EpochTrainingData, trainingLabels) #fit to data defined above\n",
        "print('Mean Accuracy: %.5f' % results.best_score_)\n",
        "print('Config: %s' % results.best_params_)\n",
        "means = results.cv_results_['mean_test_score']\n",
        "params = results.cv_results_['params']\n",
        "for mean, param in zip(means, params):\n",
        "  print(\">%.5f with: %r\" % (mean,param))"
      ],
      "execution_count": null,
      "outputs": [
        {
          "output_type": "stream",
          "text": [
            "Mean Accuracy: 0.75176\n",
            "Config: {'max_iter': 100}\n",
            ">0.71851 with: {'max_iter': 1}\n",
            ">0.74385 with: {'max_iter': 10}\n",
            ">0.75176 with: {'max_iter': 100}\n",
            ">0.75176 with: {'max_iter': 1000}\n",
            ">0.75176 with: {'max_iter': 10000}\n"
          ],
          "name": "stdout"
        }
      ]
    },
    {
      "cell_type": "markdown",
      "metadata": {
        "id": "q00UKUp4mQOH"
      },
      "source": [
        "Case: Optimal Learning Rate 100% Confidence Data"
      ]
    },
    {
      "cell_type": "code",
      "metadata": {
        "id": "FtjqFMBHmWFL",
        "colab": {
          "base_uri": "https://localhost:8080/"
        },
        "outputId": "cdd236bf-4643-4055-a113-b1ae2d1bb768"
      },
      "source": [
        "CertainTrainingData = TotalTrainingData.loc[TotalTrainingData['confidence'] == 1]\n",
        "\n",
        "WrapTrainingData1 = CertainTrainingData.loc[:, CertainTrainingData.columns != 'label']\n",
        "LRConfidentTrainingData = WrapTrainingData1.loc[:, WrapTrainingData1.columns != 'confidence']\n",
        "\n",
        "wrapConfidentLabels = TotalTrainingData.loc[(TotalTrainingData['confidence'] == 1)]\n",
        "dfconfidentLabels = wrapConfidentLabels.iloc[:,4608:4610]\n",
        "del dfconfidentLabels['confidence']\n",
        "confidentLabels = dfconfidentLabels[\"label\"]\n",
        "\n",
        "LRModel = Perceptron(eta0=0.01)\n",
        "LRModel = Perceptron(max_iter=100)\n",
        "LRModel.fit(LRConfidentTrainingData, confidentLabels)\n",
        "grid = dict()\n",
        "grid['eta0'] = [0.00001, 0.0001, 0.001, 0.01, 0.1]\n",
        "cv = RepeatedStratifiedKFold(n_splits = 64, n_repeats = 5, random_state=1)\n",
        "search = GridSearchCV(LRModel, grid, scoring='accuracy', cv=cv, n_jobs=-1)\n",
        "results = search.fit(LRConfidentTrainingData, confidentLabels)\n",
        "print('Mean Accuracy: %.5f' % results.best_score_)\n",
        "print('Config: %s' % results.best_params_)\n",
        "means = results.cv_results_['mean_test_score']\n",
        "params = results.cv_results_['params']\n",
        "for mean, param in zip(means, params):\n",
        "  print(\">%.5f with: %r\" % (mean,param))"
      ],
      "execution_count": null,
      "outputs": [
        {
          "output_type": "stream",
          "text": [
            "Mean Accuracy: 0.83035\n",
            "Config: {'eta0': 0.01}\n",
            ">0.82891 with: {'eta0': 1e-05}\n",
            ">0.82803 with: {'eta0': 0.0001}\n",
            ">0.82889 with: {'eta0': 0.001}\n",
            ">0.83035 with: {'eta0': 0.01}\n",
            ">0.83014 with: {'eta0': 0.1}\n"
          ],
          "name": "stdout"
        }
      ]
    },
    {
      "cell_type": "markdown",
      "metadata": {
        "id": "3cE9RplimuKq"
      },
      "source": [
        "Case: Optimal No. Epochs 100% Confidence Data"
      ]
    },
    {
      "cell_type": "code",
      "metadata": {
        "id": "gsjZIRvpnBj2",
        "colab": {
          "base_uri": "https://localhost:8080/"
        },
        "outputId": "4c57be24-2248-4958-9f2f-74198a0afd1f"
      },
      "source": [
        "CertainTrainingData = TotalTrainingData.loc[TotalTrainingData['confidence'] == 1]\n",
        "\n",
        "WrapTrainingData1 = CertainTrainingData.loc[:, CertainTrainingData.columns != 'label']\n",
        "EpochConfidentTrainingData = WrapTrainingData1.loc[:, WrapTrainingData1.columns != 'confidence']\n",
        "\n",
        "wrapConfidentLabels = TotalTrainingData.loc[(TotalTrainingData['confidence'] == 1)]\n",
        "dfconfidentLabels = wrapConfidentLabels.iloc[:,4608:4610]\n",
        "del dfconfidentLabels['confidence']\n",
        "confidentLabels = dfconfidentLabels[\"label\"]\n",
        "\n",
        "epochModel = Perceptron(eta0=0.0001)\n",
        "epochModel = Perceptron(max_iter=100)\n",
        "epochModel.fit(EpochConfidentTrainingData, confidentLabels)\n",
        "grid = dict()\n",
        "grid['max_iter'] = [1, 10, 100, 1000, 10000]\n",
        "cv = RepeatedStratifiedKFold(n_splits = 64, n_repeats = 5, random_state=1)\n",
        "search = GridSearchCV(epochModel, grid, scoring='accuracy', cv=cv, n_jobs=-1)\n",
        "results = search.fit(EpochConfidentTrainingData, confidentLabels)\n",
        "print('Mean Accuracy: %.5f' % results.best_score_)\n",
        "print('Config: %s' % results.best_params_)\n",
        "means = results.cv_results_['mean_test_score']\n",
        "params = results.cv_results_['params']\n",
        "for mean, param in zip(means, params):\n",
        "  print(\">%.5f with: %r\" % (mean,param))"
      ],
      "execution_count": null,
      "outputs": [
        {
          "output_type": "stream",
          "text": [
            "Mean Accuracy: 0.83014\n",
            "Config: {'max_iter': 100}\n",
            ">0.79219 with: {'max_iter': 1}\n",
            ">0.82930 with: {'max_iter': 10}\n",
            ">0.83014 with: {'max_iter': 100}\n",
            ">0.83014 with: {'max_iter': 1000}\n",
            ">0.83014 with: {'max_iter': 10000}\n"
          ],
          "name": "stdout"
        }
      ]
    },
    {
      "cell_type": "markdown",
      "metadata": {
        "id": "QT36vKQhppIu"
      },
      "source": [
        "Case: Optimal Learning Rate Using Chi2 100% Confidence Data"
      ]
    },
    {
      "cell_type": "code",
      "metadata": {
        "id": "xsC2bR-io--e",
        "colab": {
          "base_uri": "https://localhost:8080/"
        },
        "outputId": "4796648b-c7ea-4347-9388-af8f877bb5a1"
      },
      "source": [
        "#Code must be run prior to scaling total data above, if already scaled please re-run imputing for Total Training Data at the top.\n",
        "\n",
        "#chiScaler1 = StandardScaler()\n",
        "\n",
        "#chi2ConfidentTrainingData = TotalTrainingData.loc[TotalTrainingData['confidence'] == 1]\n",
        "\n",
        "#WrapTrainingData = chi2ConfidentTrainingData.loc[:, TotalTrainingData.columns != 'label']\n",
        "#ChiClassificationTrainingData = WrapTrainingData.loc[:, WrapTrainingData.columns != 'confidence']\n",
        "\n",
        "#wrapConfidentLabels = TotalTrainingData.loc[(TotalTrainingData['confidence'] == 1)]\n",
        "#dfconfidentLabels = wrapConfidentLabels.iloc[:,4608:4610]\n",
        "#del dfconfidentLabels['confidence']\n",
        "#confidentLabels = dfconfidentLabels[\"label\"]\n",
        "\n",
        "#chosenTest = SelectKBest(score_func=chi2, k=600)\n",
        "#LRchi2ConfidentData = chosenTest.fit_transform(ChiClassificationTrainingData,confidentLabels)\n",
        "\n",
        "#LRchi2ConfidentData = chiScaler1.fit_transform(LRchi2ConfidentData)\n",
        "\n",
        "#LRchi2ConfidentData = pd.DataFrame(LRchi2ConfidentData)\n",
        "\n",
        "#LRModel = Perceptron(eta0=0.01)\n",
        "#LRModel = Perceptron(max_iter=100)\n",
        "#LRModel.fit(LRchi2ConfidentData, confidentLabels)\n",
        "#grid = dict()\n",
        "#grid['eta0'] = [0.01, 0.05, 0.07, 0.1, 1.0]\n",
        "#cv = RepeatedStratifiedKFold(n_splits = 64, n_repeats = 5, random_state=1)\n",
        "#search = GridSearchCV(LRModel, grid, scoring='accuracy', cv=cv, n_jobs=-1)\n",
        "#results = search.fit(LRchi2ConfidentData, confidentLabels)\n",
        "#print('Mean Accuracy: %.5f' % results.best_score_)\n",
        "#print('Config: %s' % results.best_params_)\n",
        "#means = results.cv_results_['mean_test_score']\n",
        "#params = results.cv_results_['params']\n",
        "#for mean, param in zip(means, params):\n",
        "#  print(\">%.5f with: %r\" % (mean,param))"
      ],
      "execution_count": null,
      "outputs": [
        {
          "output_type": "stream",
          "text": [
            "Mean Accuracy: 0.79617\n",
            "Config: {'eta0': 1.0}\n",
            ">0.79492 with: {'eta0': 0.01}\n",
            ">0.79430 with: {'eta0': 0.05}\n",
            ">0.79451 with: {'eta0': 0.07}\n",
            ">0.79492 with: {'eta0': 0.1}\n",
            ">0.79617 with: {'eta0': 1.0}\n"
          ],
          "name": "stdout"
        }
      ]
    },
    {
      "cell_type": "markdown",
      "metadata": {
        "id": "gOEGlmMPp8Yf"
      },
      "source": [
        "Case: Optimal No. Epochs Using Chi2 100% Confidence Data"
      ]
    },
    {
      "cell_type": "code",
      "metadata": {
        "id": "q1KdsSa8qA2j"
      },
      "source": [
        "#chiScaler1 = StandardScaler()\n",
        "\n",
        "#chi2ConfidentTrainingData = TotalTrainingData.loc[TotalTrainingData['confidence'] == 1]\n",
        "\n",
        "#WrapTrainingData = chi2ConfidentTrainingData.loc[:, TotalTrainingData.columns != 'label']\n",
        "#ChiClassificationTrainingData = WrapTrainingData.loc[:, WrapTrainingData.columns != 'confidence']\n",
        "\n",
        "#wrapConfidentLabels = TotalTrainingData.loc[(TotalTrainingData['confidence'] == 1)]\n",
        "#dfconfidentLabels = wrapConfidentLabels.iloc[:,4608:4610]\n",
        "#del dfconfidentLabels['confidence']\n",
        "#confidentLabels = dfconfidentLabels[\"label\"]\n",
        "\n",
        "#chosenTest = SelectKBest(score_func=chi2, k=600)\n",
        "#EpochChi2ConfidentData = chosenTest.fit_transform(ChiClassificationTrainingData,confidentLabels)\n",
        "\n",
        "#EpochChi2ConfidentData = chiScaler1.fit_transform(EpochChi2ConfidentData)\n",
        "\n",
        "#EpochChi2ConfidentData = pd.DataFrame(EpochChi2ConfidentData)\n",
        "\n",
        "#epochModel = Perceptron(eta0=0.1)\n",
        "#epochModel = Perceptron(max_iter=100)\n",
        "#epochModel.fit(EpochConfidentTrainingData, confidentLabels)\n",
        "#grid = dict()\n",
        "#grid['max_iter'] = [1, 10, 100, 1000, 10000]\n",
        "#cv = RepeatedStratifiedKFold(n_splits = 64, n_repeats = 5, random_state=1)\n",
        "#search = GridSearchCV(epochModel, grid, scoring='accuracy', cv=cv, n_jobs=-1)\n",
        "#results = search.fit(EpochChi2ConfidentData, confidentLabels)\n",
        "#print('Mean Accuracy: %.5f' % results.best_score_)\n",
        "#print('Config: %s' % results.best_params_)\n",
        "#means = results.cv_results_['mean_test_score']\n",
        "#params = results.cv_results_['params']\n",
        "#for mean, param in zip(means, params):\n",
        "#  print(\">%.5f with: %r\" % (mean,param))"
      ],
      "execution_count": null,
      "outputs": []
    },
    {
      "cell_type": "markdown",
      "metadata": {
        "id": "rC1NdedP20DC"
      },
      "source": [
        "Case: Optimal Learning Rate 66% Confidence Data"
      ]
    },
    {
      "cell_type": "code",
      "metadata": {
        "id": "sDf6CbqH18Ux",
        "colab": {
          "base_uri": "https://localhost:8080/"
        },
        "outputId": "e3d2eb0e-8608-4173-92e0-551eb176cc3b"
      },
      "source": [
        "UncertainTrainingData = TotalTrainingData.loc[TotalTrainingData['confidence'] != 1]\n",
        "\n",
        "WrapTrainingData2 = UncertainTrainingData.loc[:, UncertainTrainingData.columns != 'label']\n",
        "UnConfidentTrainingData = WrapTrainingData2.loc[:, WrapTrainingData2.columns != 'confidence']\n",
        "\n",
        "wrapUnconfidentLabels = TotalTrainingData.loc[(TotalTrainingData['confidence'] != 1)]\n",
        "dfunconfidentLabels = wrapUnconfidentLabels.iloc[:,4608:4610]\n",
        "del dfunconfidentLabels['confidence']\n",
        "unconfidentLabels = dfunconfidentLabels[\"label\"]\n",
        "\n",
        "LRModel = Perceptron(eta0=0.01)\n",
        "LRModel = Perceptron(max_iter=100)\n",
        "LRModel.fit(UnConfidentTrainingData, unconfidentLabels)\n",
        "grid = dict()\n",
        "grid['eta0'] = [0.0001, 0.001, 0.01, 0.1, 1.0]\n",
        "cv = RepeatedStratifiedKFold(n_splits = 177, n_repeats = 5, random_state=1)\n",
        "search = GridSearchCV(LRModel, grid, scoring='accuracy', cv=cv, n_jobs=-1)\n",
        "results = search.fit(UnConfidentTrainingData, unconfidentLabels)\n",
        "print('Mean Accuracy: %.5f' % results.best_score_)\n",
        "print('Config: %s' % results.best_params_)\n",
        "means = results.cv_results_['mean_test_score']\n",
        "params = results.cv_results_['params']\n",
        "for mean, param in zip(means, params):\n",
        "  print(\">%.5f with: %r\" % (mean,param))"
      ],
      "execution_count": null,
      "outputs": [
        {
          "output_type": "stream",
          "text": [
            "Mean Accuracy: 0.76180\n",
            "Config: {'eta0': 0.001}\n",
            ">0.75652 with: {'eta0': 0.0001}\n",
            ">0.76180 with: {'eta0': 0.001}\n",
            ">0.75826 with: {'eta0': 0.01}\n",
            ">0.75811 with: {'eta0': 0.1}\n",
            ">0.75758 with: {'eta0': 1.0}\n"
          ],
          "name": "stdout"
        }
      ]
    },
    {
      "cell_type": "markdown",
      "metadata": {
        "id": "5oNeOpN129QG"
      },
      "source": [
        "Case: Optimal Learning Rate Total Training Data Post PCA"
      ]
    },
    {
      "cell_type": "code",
      "metadata": {
        "id": "ezo_SBQ13C22",
        "colab": {
          "base_uri": "https://localhost:8080/"
        },
        "outputId": "a9e5ae6b-b428-4558-b564-b8ac0831e45e"
      },
      "source": [
        "trainingLabels=TotalTrainingData[\"label\"]\n",
        "\n",
        "pca = PCA(0.8)\n",
        "pcaTrainingData = pca.fit_transform(TotalTrainingData)\n",
        "pcaDataFrame = pd.DataFrame(pcaTrainingData)\n",
        "\n",
        "LRModel = Perceptron(eta0=0.01)\n",
        "LRModel = Perceptron(max_iter=100)\n",
        "LRModel.fit(pcaDataFrame, trainingLabels)\n",
        "grid = dict()\n",
        "grid['eta0'] = [0.0001, 0.001, 0.01, 0.1, 1.0]\n",
        "cv = RepeatedStratifiedKFold(n_splits = 241, n_repeats = 5, random_state=1)\n",
        "search = GridSearchCV(LRModel, grid, scoring='accuracy', cv=cv, n_jobs=-1)\n",
        "results = search.fit(pcaDataFrame, trainingLabels)\n",
        "print('Mean Accuracy: %.5f' % results.best_score_)\n",
        "print('Config: %s' % results.best_params_)\n",
        "means = results.cv_results_['mean_test_score']\n",
        "params = results.cv_results_['params']\n",
        "for mean, param in zip(means, params):\n",
        "  print(\">%.5f with: %r\" % (mean,param))"
      ],
      "execution_count": null,
      "outputs": [
        {
          "output_type": "stream",
          "text": [
            "Mean Accuracy: 0.74097\n",
            "Config: {'eta0': 0.001}\n",
            ">0.73804 with: {'eta0': 0.0001}\n",
            ">0.74097 with: {'eta0': 0.001}\n",
            ">0.74086 with: {'eta0': 0.01}\n",
            ">0.74097 with: {'eta0': 0.1}\n",
            ">0.74097 with: {'eta0': 1.0}\n"
          ],
          "name": "stdout"
        }
      ]
    },
    {
      "cell_type": "markdown",
      "metadata": {
        "id": "f-Pu9Dxm4HxP"
      },
      "source": [
        "Case: Optimal Learning Rate 100% Confident Data Post PCA"
      ]
    },
    {
      "cell_type": "code",
      "metadata": {
        "id": "E-k3hpAB4MiD",
        "colab": {
          "base_uri": "https://localhost:8080/"
        },
        "outputId": "ea9df2e7-29fd-4771-ba9b-666a7e2b7a58"
      },
      "source": [
        "pca1 = PCA(0.8)\n",
        "\n",
        "pcaTrainingData1 = TotalTrainingData.loc[TotalTrainingData['confidence'] == 1]\n",
        "\n",
        "pcaConfidentData = pca1.fit_transform(pcaTrainingData1)\n",
        "pcaConfidentDataFrame = pd.DataFrame(pcaConfidentData)\n",
        "\n",
        "wrapConfidentLabels = TotalTrainingData.loc[(TotalTrainingData['confidence'] == 1)]\n",
        "dfconfidentLabels = wrapConfidentLabels.iloc[:,4608:4610]\n",
        "del dfconfidentLabels['confidence']\n",
        "confidentLabels = dfconfidentLabels[\"label\"]\n",
        "\n",
        "LRModel = Perceptron(eta0=0.01)\n",
        "LRModel = Perceptron(max_iter=100)\n",
        "LRModel.fit(pcaConfidentDataFrame, confidentLabels)\n",
        "grid = dict()\n",
        "grid['eta0'] = [0.0001, 0.001, 0.01, 0.1, 1.0]\n",
        "cv = RepeatedStratifiedKFold(n_splits = 64, n_repeats = 5, random_state=1)\n",
        "search = GridSearchCV(LRModel, grid, scoring='accuracy', cv=cv, n_jobs=-1)\n",
        "results = search.fit(pcaConfidentDataFrame, confidentLabels)\n",
        "print('Mean Accuracy: %.5f' % results.best_score_)\n",
        "print('Config: %s' % results.best_params_)\n",
        "means = results.cv_results_['mean_test_score']\n",
        "params = results.cv_results_['params']\n",
        "for mean, param in zip(means, params):\n",
        "  print(\">%.5f with: %r\" % (mean,param))\n"
      ],
      "execution_count": null,
      "outputs": [
        {
          "output_type": "stream",
          "text": [
            "Mean Accuracy: 0.80908\n",
            "Config: {'eta0': 0.0001}\n",
            ">0.80908 with: {'eta0': 0.0001}\n",
            ">0.80845 with: {'eta0': 0.001}\n",
            ">0.80803 with: {'eta0': 0.01}\n",
            ">0.80783 with: {'eta0': 0.1}\n",
            ">0.80783 with: {'eta0': 1.0}\n"
          ],
          "name": "stdout"
        }
      ]
    },
    {
      "cell_type": "markdown",
      "metadata": {
        "id": "4qo2dlU25z59"
      },
      "source": [
        "Case: Optimal Learning Rate 66% Confidence Data Post PCA"
      ]
    },
    {
      "cell_type": "code",
      "metadata": {
        "id": "ubmJR2Gh55HV",
        "colab": {
          "base_uri": "https://localhost:8080/"
        },
        "outputId": "71ef678e-0202-4f9c-d3ed-7a01f22d5fff"
      },
      "source": [
        "pca2 = PCA(0.8)\n",
        "\n",
        "pcaTrainingData2 = TotalTrainingData.loc[TotalTrainingData['confidence'] != 1]\n",
        "\n",
        "pcaUnConfidentData = pca2.fit_transform(pcaTrainingData2)\n",
        "pcaUnConfidentDataFrame = pd.DataFrame(pcaUnConfidentData)\n",
        "\n",
        "wrapUnconfidentLabels = TotalTrainingData.loc[(TotalTrainingData['confidence'] != 1)]\n",
        "dfunconfidentLabels = wrapUnconfidentLabels.iloc[:,4608:4610]\n",
        "del dfunconfidentLabels['confidence']\n",
        "unconfidentLabels = dfunconfidentLabels[\"label\"]\n",
        "\n",
        "LRModel = Perceptron(eta0=0.01)\n",
        "LRModel = Perceptron(max_iter=100)\n",
        "LRModel.fit(pcaUnConfidentDataFrame, unconfidentLabels)\n",
        "grid = dict()\n",
        "grid['eta0'] = [0.0001, 0.001, 0.01, 0.1, 1.0]\n",
        "cv = RepeatedStratifiedKFold(n_splits = 177, n_repeats = 5, random_state=1)\n",
        "search = GridSearchCV(LRModel, grid, scoring='accuracy', cv=cv, n_jobs=-1)\n",
        "results = search.fit(pcaUnConfidentDataFrame, unconfidentLabels)\n",
        "print('Mean Accuracy: %.5f' % results.best_score_)\n",
        "print('Config: %s' % results.best_params_)\n",
        "means = results.cv_results_['mean_test_score']\n",
        "params = results.cv_results_['params']\n",
        "for mean, param in zip(means, params):\n",
        "  print(\">%.5f with: %r\" % (mean,param))"
      ],
      "execution_count": null,
      "outputs": [
        {
          "output_type": "stream",
          "text": [
            "Mean Accuracy: 0.73097\n",
            "Config: {'eta0': 0.01}\n",
            ">0.72623 with: {'eta0': 0.0001}\n",
            ">0.72992 with: {'eta0': 0.001}\n",
            ">0.73097 with: {'eta0': 0.01}\n",
            ">0.73059 with: {'eta0': 0.1}\n",
            ">0.73059 with: {'eta0': 1.0}\n"
          ],
          "name": "stdout"
        }
      ]
    },
    {
      "cell_type": "markdown",
      "metadata": {
        "id": "qsovyYd46Lo9"
      },
      "source": [
        "Case: Optimal Learning Rate Total Data Post Chi2"
      ]
    },
    {
      "cell_type": "code",
      "metadata": {
        "id": "TiBYe9H36TZl",
        "colab": {
          "base_uri": "https://localhost:8080/"
        },
        "outputId": "2f7b38e5-1394-4ebd-9bd2-c59189f382de"
      },
      "source": [
        "#Code must be run prior to scaling total data above, if already scaled please re-run imputing for Total Training Data at the top.\n",
        "\n",
        "#trainingLabels=TotalTrainingData[\"label\"]\n",
        "\n",
        "#chiScaler = StandardScaler()\n",
        "\n",
        "#WrapTrainingData = TotalTrainingData.loc[:, TotalTrainingData.columns != 'label']\n",
        "#ClassificationTrainingData = WrapTrainingData.loc[:, WrapTrainingData.columns != 'confidence']\n",
        "\n",
        "#test = SelectKBest(score_func=chi2, k=1400)\n",
        "#chi2TrainingData = test.fit_transform(ClassificationTrainingData,trainingLabels) #reni\n",
        "\n",
        "#chi2TrainingData = chiScaler.fit_transform(chi2TrainingData) #now normalize using scaler defined above\n",
        "\n",
        "#chi2TrainingData = pd.DataFrame(chi2TrainingData)\n",
        "\n",
        "#LRModel = Perceptron(eta0=0.01)\n",
        "#LRModel = Perceptron(max_iter=100)\n",
        "#LRModel.fit(chi2TrainingData, trainingLabels)\n",
        "#grid = dict()\n",
        "#grid['eta0'] = [0.0001, 0.001, 0.01, 0.1, 1.0]\n",
        "#cv = RepeatedStratifiedKFold(n_splits = 241, n_repeats = 5, random_state=1)\n",
        "#search = GridSearchCV(LRModel, grid, scoring='accuracy', cv=cv, n_jobs=-1)\n",
        "#results = search.fit(chi2TrainingData, trainingLabels)\n",
        "#print('Mean Accuracy: %.5f' % results.best_score_)\n",
        "#print('Config: %s' % results.best_params_)\n",
        "#means = results.cv_results_['mean_test_score']\n",
        "#params = results.cv_results_['params']\n",
        "#for mean, param in zip(means, params):\n",
        "#  print(\">%.5f with: %r\" % (mean,param))"
      ],
      "execution_count": null,
      "outputs": [
        {
          "output_type": "stream",
          "text": [
            "Mean Accuracy: 0.71104\n",
            "Config: {'eta0': 0.0001}\n",
            ">0.71104 with: {'eta0': 0.0001}\n",
            ">0.70717 with: {'eta0': 0.001}\n",
            ">0.70545 with: {'eta0': 0.01}\n",
            ">0.70506 with: {'eta0': 0.1}\n",
            ">0.70506 with: {'eta0': 1.0}\n"
          ],
          "name": "stdout"
        }
      ]
    },
    {
      "cell_type": "markdown",
      "metadata": {
        "id": "O0Aa_PCDYPXj"
      },
      "source": [
        "Case: Compare number of labels for two test prediction sets"
      ]
    },
    {
      "cell_type": "code",
      "metadata": {
        "id": "RwiLFC66mgXK"
      },
      "source": [
        "predictionComparison = np.where(chosenTestPredictions == testPredictions, 'True', 'False') #compare two perceptrons\n",
        "predictionComparison = pd.DataFrame(predictionComparison)\n",
        "predictionComparison.describe()"
      ],
      "execution_count": null,
      "outputs": []
    }
  ]
}